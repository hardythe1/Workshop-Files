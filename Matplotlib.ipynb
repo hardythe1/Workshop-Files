{
 "metadata": {
  "name": "",
  "signature": "sha256:c5d00f4162885ade2f6a1eca59ab8110766bb41af7ccb2d65969ee41cd55def5"
 },
 "nbformat": 3,
 "nbformat_minor": 0,
 "worksheets": [
  {
   "cells": [
    {
     "cell_type": "heading",
     "level": 3,
     "metadata": {},
     "source": [
      "Importing modules\n"
     ]
    },
    {
     "cell_type": "code",
     "collapsed": false,
     "input": [
      "import matplotlib.pyplot as plt\n",
      "import numpy as np\n",
      "\n",
      "%pylab inline"
     ],
     "language": "python",
     "metadata": {},
     "outputs": [
      {
       "output_type": "stream",
       "stream": "stdout",
       "text": [
        "Populating the interactive namespace from numpy and matplotlib\n"
       ]
      }
     ],
     "prompt_number": 2
    },
    {
     "cell_type": "heading",
     "level": 3,
     "metadata": {},
     "source": [
      "Plot simple graph"
     ]
    },
    {
     "cell_type": "code",
     "collapsed": false,
     "input": [
      "x = [0,1,2,3]\n",
      "y = [0,1,2,3]\n"
     ],
     "language": "python",
     "metadata": {},
     "outputs": []
    },
    {
     "cell_type": "code",
     "collapsed": false,
     "input": [
      "plt.plot(x,y)\n",
      "plt.show()"
     ],
     "language": "python",
     "metadata": {},
     "outputs": []
    },
    {
     "cell_type": "code",
     "collapsed": false,
     "input": [
      "x1 = np.linspace(0,2,20)\n",
      "y1 = x1 ** 2"
     ],
     "language": "python",
     "metadata": {},
     "outputs": []
    },
    {
     "cell_type": "code",
     "collapsed": false,
     "input": [
      "plot(x,y)\n",
      "plot(x1,y1)"
     ],
     "language": "python",
     "metadata": {},
     "outputs": []
    },
    {
     "cell_type": "heading",
     "level": 3,
     "metadata": {},
     "source": [
      "Plot Style\n"
     ]
    },
    {
     "cell_type": "code",
     "collapsed": false,
     "input": [
      "#plt.plot(x1,y1,color=\"red\")\n",
      "#plt.plot(x1,y1,\"ro\")\n",
      "#plt.plot(x,y,color=\"b\",linestyle=\"dashed\",linewidth=3)\n",
      "plt.plot(x1,y1,color=\"g\",linestyle=\"dashed\",linewidth=3,marker=\"o\", markerfacecolor=\"b\",markersize=5)"
     ],
     "language": "python",
     "metadata": {},
     "outputs": []
    },
    {
     "cell_type": "code",
     "collapsed": false,
     "input": [
      "# placing grid\n",
      "plt.plot(x1,y1,\"r\")\n",
      "plt.grid()\n",
      "#plt.xlim(0,20)\n",
      "#plt.ylim(0,20)\n",
      "plt.title(\"Numpy Plot\")\n",
      "plt.xlabel(\"X\")\n",
      "plt.ylabel(\"Y\")"
     ],
     "language": "python",
     "metadata": {},
     "outputs": []
    },
    {
     "cell_type": "code",
     "collapsed": false,
     "input": [
      "# evenly sampled time at 200ms intervals\n",
      "t = np.arange(0., 5., 0.2)\n",
      "\n",
      "# red dashes, blue squares and green triangles\n",
      "plt.plot(t, t, 'r--', t, t**2, 'bs', t, t**3, 'g^')\n"
     ],
     "language": "python",
     "metadata": {},
     "outputs": []
    },
    {
     "cell_type": "heading",
     "level": 3,
     "metadata": {},
     "source": [
      "Subplots in a figure"
     ]
    },
    {
     "cell_type": "code",
     "collapsed": false,
     "input": [
      "def f(t):\n",
      "    return np.exp(-t) * np.cos(2*np.pi*t)\n",
      "\n",
      "t1 = np.arange(0.0, 5.0, 0.1)\n",
      "t2 = np.arange(0.0, 5.0, 0.02)\n",
      "\n",
      "plt.figure(1)\n",
      "plt.subplot(211)           # 2,1,1       (row,column,current)\n",
      "plt.plot(t1, f(t1), 'bo', t2, f(t2), 'k')\n",
      "\n",
      "plt.subplot(212)\n",
      "plt.plot(t2, np.cos(2*np.pi*t2), 'r--')\n",
      "plt.show()"
     ],
     "language": "python",
     "metadata": {},
     "outputs": []
    },
    {
     "cell_type": "heading",
     "level": 3,
     "metadata": {},
     "source": [
      "Creating multiple figures..."
     ]
    },
    {
     "cell_type": "code",
     "collapsed": false,
     "input": [
      "plt.figure(1)                # the first figure\n",
      "plt.subplot(211)             # the first subplot in the first figure\n",
      "plt.plot([1,2,3])\n",
      "plt.subplot(212)             # the second subplot in the first figure\n",
      "plt.plot([4,5,6])\n",
      "\n",
      "\n",
      "plt.figure(2)                # a second figure\n",
      "plt.plot([4,5,6])            # creates a subplot(111) by default\n",
      "\n",
      "plt.figure(1)                # figure 1 current; subplot(212) still current\n",
      "plt.subplot(211)             # make subplot(211) in figure1 current\n",
      "plt.title('Easy as 1,2,3')   # subplot 211 title\n"
     ],
     "language": "python",
     "metadata": {},
     "outputs": []
    },
    {
     "cell_type": "heading",
     "level": 3,
     "metadata": {},
     "source": [
      "Working with Text"
     ]
    },
    {
     "cell_type": "code",
     "collapsed": false,
     "input": [
      "mu, sigma = 100, 15\n",
      "x = mu + sigma * np.random.randn(10000)\n",
      "\n",
      "# the histogram of the data\n",
      "plt.hist(x ,bins=50,normed=1, facecolor='g', alpha=0.75)\n",
      "\n",
      "plt.xlabel('Smarts')\n",
      "#plt.xlabel('Smarts', fontsize=14, color='red')\n",
      "plt.ylabel('Probability')\n",
      "plt.title('Histogram of IQ')\n",
      "plt.text(60, .025, r'$\\mu=100,\\ \\sigma=15$')\n",
      "plt.axis([40, 160, 0, 0.03])\n",
      "plt.grid(True)\n",
      "plt.show()"
     ],
     "language": "python",
     "metadata": {},
     "outputs": [
      {
       "metadata": {},
       "output_type": "display_data",
       "png": "[encoded data removed]",
       "text": [
        "<matplotlib.figure.Figure at 0x356ef90>"
       ]
      }
     ],
     "prompt_number": 3
    },
    {
     "cell_type": "code",
     "collapsed": false,
     "input": [
      "ax = plt.subplot(111)\n",
      "\n",
      "t = np.arange(0.0, 5.0, 0.01)\n",
      "s = np.cos(2*np.pi*t)\n",
      "line, = plt.plot(t, s, lw=2)\n",
      "\n",
      "plt.annotate('local max', xy=(2, 1), xytext=(3, 1.5),\n",
      "            arrowprops=dict(facecolor='black', shrink=0.05),\n",
      "            )\n",
      "plt.ylim(-2,2)\n"
     ],
     "language": "python",
     "metadata": {},
     "outputs": []
    },
    {
     "cell_type": "code",
     "collapsed": false,
     "input": [
      "# create a new data-set\n",
      "x = mu + sigma*randn(1000,3)\n",
      "\n",
      "hist(x, 10, normed=1,color=['crimson', 'burlywood', 'chartreuse'],\n",
      "                            label=['crimson', 'Burlywood', 'Chartreuse'])\n",
      "legend()"
     ],
     "language": "python",
     "metadata": {},
     "outputs": []
    },
    {
     "cell_type": "heading",
     "level": 2,
     "metadata": {},
     "source": [
      "For More: http://matplotlib.org/contents.html"
     ]
    }
   ],
   "metadata": {}
  }
 ]
}